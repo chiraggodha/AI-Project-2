{
 "cells": [
  {
   "attachments": {},
   "cell_type": "markdown",
   "metadata": {},
   "source": [
    "### Project 2\n",
    "Refer to the project writeup [here](https://rutgers.box.com/s/yqrov1mwv5kbpk557nvc5uhjbj4mla6d)"
   ]
  },
  {
   "cell_type": "code",
   "execution_count": 3,
   "metadata": {},
   "outputs": [],
   "source": [
    "from math import exp\n",
    "import random"
   ]
  },
  {
   "cell_type": "code",
   "execution_count": 2,
   "metadata": {},
   "outputs": [
    {
     "data": {
      "image/png": "[encoded data removed]",
      "text/plain": [
       "<Figure size 640x480 with 2 Axes>"
      ]
     },
     "metadata": {},
     "output_type": "display_data"
    },
    {
     "data": {
      "text/plain": [
       "[(1, 4), (0, 3), (0, 5)]"
      ]
     },
     "execution_count": 2,
     "metadata": {},
     "output_type": "execute_result"
    }
   ],
   "source": [
    "from ship import ship\n",
    "# Confirming our import works\n",
    "space_ship = ship.CreateShip(10)\n",
    "space_ship.OpenShip()\n",
    "space_ship.ShowShip()\n",
    "space_ship.getOpenNeighbors((0, 4))"
   ]
  },
  {
   "cell_type": "code",
   "execution_count": 4,
   "metadata": {},
   "outputs": [],
   "source": [
    "# Now I want to work on bot 3\n",
    "# Bot 3 and leak have random location on open cells\n",
    "# If bot takes a \"sense\" action it has p = e^(-a(d-1)) of getting a beep, given leak is d steps away\n",
    "\n",
    "# d(i, j) is shortest path to (i, j), all we need to do is SSSP with BFS\n",
    "def SSSP(ship2: ship, src: tuple):\n",
    "    dist = {cell :  [float('inf'), []] for cell in ship2.open}\n",
    "    dist[src] = [0,[]]\n",
    "    fringe = [src]\n",
    "    while fringe:\n",
    "        curr = fringe.pop(0)\n",
    "        currDist = dist[curr][0]\n",
    "\n",
    "        for neighbor in ship.getOpenNeighbors(ship2, curr):\n",
    "            new_dist = 1 + currDist\n",
    "            if new_dist < dist[neighbor][0]:\n",
    "                dist[neighbor] = [new_dist, dist[curr][1]+[neighbor]]\n",
    "                fringe.append(neighbor)\n",
    "    return dist\n",
    "\n",
    "\n",
    "# Initially all open cells should have the same probability of containing a leak\n",
    "# What is P(leak is nearby | beep) = P(beep | leak)*P(leak) / P(beep)\n",
    "\n",
    "def sense(leakloc, alpha, dist): #Assuming botloc and leakloc are tuples (row, col)\n",
    "    d = dist[leakloc][0]\n",
    "    prob = exp(-alpha*(d-1))\n",
    "    if random.random() < prob:\n",
    "        return True, prob\n",
    "    return False, prob\n",
    "\n",
    "# To determine the next cell we visit:\n",
    "# - Determine Max P(leak in cell x)\n",
    "# Put all cells with this probability into a list\n",
    "# Go to the closest one from this list\n",
    "\n",
    "def updateProbs(currProbs, senseRes, ship, dist, alpha):\n",
    "    newProbs = {}\n",
    "    if senseRes:\n",
    "        # Find P(beep)\n",
    "        denom = sum(currProbs[k] * exp(-alpha*(dist[k][0]-1)) for k in ship.open)\n",
    "    else:\n",
    "        # Find P(!beep)\n",
    "        denom = sum(currProbs[k] * (1 - exp(-alpha*(dist[k][0]-1))) for k in ship.open)\n",
    "    for cell in ship.open:\n",
    "        init_prob = exp(-alpha * (dist[cell][0]-1))\n",
    "        if senseRes:\n",
    "            p_data_evidence = init_prob\n",
    "        else:\n",
    "            p_data_evidence = 1-init_prob\n",
    "        # Essentially, if we get a beep: P(leak in cell)* P(beep at i | leak in cell)/ P(beep)\n",
    "        new_prob = (currProbs[cell]*p_data_evidence)/denom\n",
    "        if new_prob > 1: print('we fucked up')\n",
    "        newProbs[cell] = new_prob\n",
    "    return newProbs\n",
    "\n",
    "# Assuming that we went to this cell and we did not find leak\n",
    "def newCell(cell_loc, currProbs):\n",
    "    prob_cell = currProbs[cell_loc]\n",
    "    denom = 1 - prob_cell\n",
    "    newProbs = {}\n",
    "    if denom != 0:\n",
    "        for cell in currProbs.keys():\n",
    "            newProbs[cell] = currProbs[cell]/denom\n",
    "    newProbs[cell_loc] = 0\n",
    "    return newProbs\n",
    "\n",
    "# Find the cell with max probability, breaking ties by finding min distance\n",
    "def nextCell(probabilities:dict , distances:dict):\n",
    "    max_prob = max(probabilities.values())\n",
    "    max_prob_keys = [key for key,value in probabilities.items() if value==max_prob]\n",
    "    return min(max_prob_keys, key=lambda key: distances[key][0])\n",
    "\n",
    "# If we move to a cell and dont detect leak, do we update all probs to be old prob/1 - prob of this cell\n",
    "def Bot3(ship, alpha):\n",
    "    opens = list(ship.open)\n",
    "    while True:\n",
    "        botloc, leakloc = random.sample(opens, 2)\n",
    "        if botloc != leakloc: break\n",
    "    print(f'bot started at: {botloc}, leak is at: {leakloc}')\n",
    "    start_prob = 1/(len(opens)-1) #Probability leak is in any open cell is 1/# of possible cells\n",
    "    probs = {cell: start_prob for cell in opens if cell != botloc}\n",
    "    probs[botloc] = 0\n",
    "    game_over,t = False,0\n",
    "    while not game_over:\n",
    "        distances = SSSP(ship, botloc)\n",
    "        senseRes,_ = sense(leakloc, alpha, distances)\n",
    "        t+=1 # Sense action takes one time step\n",
    "        probs = updateProbs(probs, senseRes, ship, distances,alpha)\n",
    "        next_cell = nextCell(probs, distances)\n",
    "        for loc in distances[next_cell][1]:\n",
    "            botloc = loc\n",
    "            if loc == leakloc:\n",
    "                game_over = True\n",
    "                return game_over, t\n",
    "            # Set the p(leak in this cell) = 0, and update other probs thru normalization. \n",
    "            # Note that this won't change cell with max prob b/c ratio of probabilities will remain the same\n",
    "            probs = newCell(loc, probs)\n",
    "            t+=1\n",
    "        # if set(moves)==ship.open: break # This means something went wrong and we fucked up\n",
    "    return game_over, t\n",
    "    \n"
   ]
  },
  {
   "cell_type": "code",
   "execution_count": 43,
   "metadata": {},
   "outputs": [
    {
     "data": {
      "image/png": "[encoded data removed]",
      "text/plain": [
       "<Figure size 640x480 with 2 Axes>"
      ]
     },
     "metadata": {},
     "output_type": "display_data"
    }
   ],
   "source": [
    "space_ship = ship.CreateShip(30)\n",
    "space_ship.OpenShip()\n",
    "space_ship.populateClosedCells()\n",
    "space_ship.ShowShip()"
   ]
  },
  {
   "cell_type": "code",
   "execution_count": 5,
   "metadata": {},
   "outputs": [
    {
     "name": "stdout",
     "output_type": "stream",
     "text": [
      "bot started at: (1, 8), leak is at: (0, 7)\n"
     ]
    },
    {
     "data": {
      "text/plain": [
       "(True, 127)"
      ]
     },
     "execution_count": 5,
     "metadata": {},
     "output_type": "execute_result"
    }
   ],
   "source": [
    "Bot3(space_ship, 0.05)"
   ]
  },
  {
   "cell_type": "code",
   "execution_count": 34,
   "metadata": {},
   "outputs": [],
   "source": [
    "# The idea for bot 4. It's going to use pretty much the same logic as bot 3, except it keeps doing sense actions until \n",
    "# The max probability goes over some threshhold value. In this way we gain more knowledge about the ship before moving.\n",
    "\n",
    "def Bot4(ship, alpha, threshold_value=0.5):\n",
    "    opens = list(ship.open)\n",
    "    c = 1/alpha #create a failsafe in case there seems to be no higher probability value\n",
    "    # Sample distinct locations for bot and leak locations\n",
    "    while True:\n",
    "        botloc, leakloc = random.sample(opens, 2)\n",
    "        if botloc != leakloc: break\n",
    "    print(f'bot started at: {botloc}, leak is at: {leakloc}')\n",
    "    start_prob = 1/(len(opens)-1) #Probability leak is in any open cell is 1/# of possible cells\n",
    "    probs = {cell: start_prob for cell in opens if cell != botloc}\n",
    "    probs[botloc] = 0\n",
    "    game_over,t, moves = False,0,[botloc]\n",
    "    while not game_over:\n",
    "        distances = SSSP(ship, botloc)\n",
    "        senseRes,_ = sense(leakloc, alpha, distances)\n",
    "        t+=1 # Sense action takes one time step\n",
    "        probs = updateProbs(probs, senseRes, ship, distances,alpha)\n",
    "        max_prob = max(probs.values())\n",
    "        while max_prob < threshold_value: #till we have found a max_probability cell that is better than what we have set as our threshold we keep sensing \n",
    "            senseRes,_ = sense(leakloc, alpha, distances)\n",
    "            t+=1\n",
    "            probs = updateProbs(probs, senseRes, ship, distances,alpha)\n",
    "            max_prob = max(probs.values())\n",
    "            c-=1\n",
    "            if c <= 0: #failsafe to stop infinite loops\n",
    "                break\n",
    "        next_cell = nextCell(probs, distances)\n",
    "        for loc in distances[next_cell][1]:\n",
    "            botloc = loc\n",
    "            moves.append(loc)\n",
    "            if loc == leakloc:\n",
    "                game_over = True\n",
    "                return game_over, t\n",
    "            # Set the p(leak in this cell) = 0, and update other probs thru normalization. \n",
    "            # Note that this won't change cell with max prob b/c ratio of probabilities will remain the same\n",
    "            probs = newCell(loc, probs)\n",
    "            t+=1\n",
    "        if set(moves)==ship.open: break # This means something went wrong and we fucked up\n",
    "    return game_over, t"
   ]
  },
  {
   "cell_type": "code",
   "execution_count": 27,
   "metadata": {},
   "outputs": [
    {
     "data": {
      "image/png": "[encoded data removed]",
      "text/plain": [
       "<Figure size 640x480 with 2 Axes>"
      ]
     },
     "metadata": {},
     "output_type": "display_data"
    }
   ],
   "source": [
    "space_ship = ship.CreateShip(30)\n",
    "space_ship.OpenShip()\n",
    "space_ship.populateClosedCells()\n",
    "space_ship.ShowShip()"
   ]
  },
  {
   "cell_type": "code",
   "execution_count": 39,
   "metadata": {},
   "outputs": [
    {
     "name": "stdout",
     "output_type": "stream",
     "text": [
      "bot started at: (26, 25), leak is at: (18, 25)\n"
     ]
    },
    {
     "data": {
      "text/plain": [
       "(True, 74)"
      ]
     },
     "execution_count": 39,
     "metadata": {},
     "output_type": "execute_result"
    }
   ],
   "source": [
    "Bot4(space_ship, 0.05)"
   ]
  },
  {
   "cell_type": "code",
   "execution_count": 6,
   "metadata": {},
   "outputs": [],
   "source": [
    "# Now let's start coding for Bot 7. Basically, we are going to have same algorithms and methods for updating probabilities\n",
    "# but now the bot should keep going until it patches up 2 leaks\n",
    "\n",
    "def Bot7(ship, alpha):\n",
    "    opens = list(ship.open)\n",
    "    # Now we initialize two random leak locations that are distinct\n",
    "    while True:\n",
    "        botloc, leak1loc, leak2loc = random.sample(opens, 3)\n",
    "        if len(set([botloc, leak1loc, leak2loc])) == 3: break\n",
    "    print(f'bot started at: {botloc}, leak 1 is at: {leak1loc}, leak 2 is at: {leak2loc}')\n",
    "    start_prob = 2/(len(opens)-1)\n",
    "    probs = {cell: start_prob for cell in opens if cell != botloc}\n",
    "    probs[botloc] = 0\n",
    "    leak1found, leak2found,t = False, False,0\n",
    "    while not leak1found or not leak2found:\n",
    "        distances = SSSP(ship, botloc)\n",
    "        # We get sense results first based off the first leak, then once that's found based on the 2nd leak\n",
    "        if not leak1found:\n",
    "            senseRes, _ = sense(leak1loc, alpha, distances)\n",
    "        elif not leak2found:\n",
    "            senseRes, _ = sense(leak2loc, alpha, distances)\n",
    "        t+=1\n",
    "        probs = updateProbs(probs, senseRes, ship, distances,alpha)\n",
    "        next_cell = nextCell(probs, distances)\n",
    "        for loc in distances[next_cell][1]:\n",
    "            botloc = loc\n",
    "            if loc == leak1loc:\n",
    "                leak1found = True\n",
    "            elif loc == leak2loc:\n",
    "                leak2found = True\n",
    "            if leak1found and leak2found:\n",
    "                return True, t\n",
    "            # Set the p(leak in this cell) = 0, and update other probs thru normalization. \n",
    "            # Note that this won't change cell with max prob b/c ratio of probabilities will remain the same\n",
    "            probs = newCell(loc, probs)\n",
    "            t+=1\n",
    "        # if set(moves)==ship.open: break # This means something went wrong and we fucked up\n",
    "    return False, t\n",
    "        "
   ]
  },
  {
   "cell_type": "code",
   "execution_count": 50,
   "metadata": {},
   "outputs": [
    {
     "data": {
      "image/png": "[encoded data removed]",
      "text/plain": [
       "<Figure size 640x480 with 2 Axes>"
      ]
     },
     "metadata": {},
     "output_type": "display_data"
    }
   ],
   "source": [
    "space_ship = ship.CreateShip(30)\n",
    "space_ship.OpenShip()\n",
    "space_ship.populateClosedCells()\n",
    "space_ship.ShowShip()"
   ]
  },
  {
   "cell_type": "code",
   "execution_count": 9,
   "metadata": {
    "scrolled": true
   },
   "outputs": [
    {
     "name": "stdout",
     "output_type": "stream",
     "text": [
      "bot started at: (1, 2), leak 1 is at: (5, 8), leak 2 is at: (9, 2)\n"
     ]
    },
    {
     "data": {
      "text/plain": [
       "(True, 123)"
      ]
     },
     "execution_count": 9,
     "metadata": {},
     "output_type": "execute_result"
    }
   ],
   "source": [
    "Bot7(space_ship, 0.05)"
   ]
  },
  {
   "cell_type": "code",
   "execution_count": 12,
   "metadata": {},
   "outputs": [],
   "source": [
    "# The issue is that we have to store probabilities as probability that leak is in any pair. Starting prob is 1/total number of pairs\n",
    "# This is because leaks are not necessarily dependent\n",
    "\n",
    "# Once you find a leak can set pairs that don't have 1st leak all to 0. For pairs leak1 and possible leak2\n",
    "\n",
    "# Switch bot 8 to bot 9 because this is just an approximation where we assume that leaks are independent\n",
    "\n",
    "# Use alpha between 0.01 and 0.1\n",
    "\n",
    "# For bot 8, we need to correct the probability of even getting a beep, and we need to correctly\n",
    "# update probabilities given a sense action. From there we can reuse SSSP(), newCell(), and nextCell()\n",
    "\n",
    "# Now we compute probability of getting a beep given leak locations is 1 - P(No beep from leak1 AND No beep from leak2)\n",
    "def sense9(leak1loc, leak2loc, alpha, dist):\n",
    "    _, prob1 = sense(leak1loc, alpha, dist) #P(beep | leak location)\n",
    "    _, prob2 = sense(leak2loc, alpha, dist)\n",
    "    final_prob = 1 - (1-prob1)*(1-prob2)\n",
    "    if random.random() < final_prob:\n",
    "        return True, final_prob\n",
    "    return False, final_prob\n",
    "\n",
    "def updateProbs9(senseRes,currProbs, ship2, dist, alpha):\n",
    "    opens = list(ship2.open)\n",
    "    newProbs = {}\n",
    "    denom = 0\n",
    "    for a in range(len(opens)):\n",
    "        for b in range(a+1, len(opens)):\n",
    "            if a != b:\n",
    "                # Finding P(beep at i | leak in a, b)\n",
    "                _, prob_beep = sense9(opens[a], opens[b], alpha, dist)\n",
    "                # Probability a and b contain leaks\n",
    "                prob_ab = currProbs[opens[a]]*currProbs[opens[b]]\n",
    "                if senseRes:\n",
    "                    denom += prob_ab*prob_beep\n",
    "                else:\n",
    "                    denom += prob_ab*(1-prob_beep)\n",
    "    for cell in ship2.open:\n",
    "        p_leak = currProbs[cell]\n",
    "        if senseRes:\n",
    "            p_numerator = sum(p_leak*currProbs[k]*sense9(cell, k, alpha, dist)[1] for k in ship2.open if k != cell)\n",
    "        else:\n",
    "            p_numerator = sum(p_leak*currProbs[k]*(1 - sense9(cell, k, alpha, dist)[1]) for k in ship2.open if k != cell)\n",
    "        new_prob =  p_numerator/denom\n",
    "        if new_prob > 1: print('we fucked up')\n",
    "        newProbs[cell] = new_prob\n",
    "    return newProbs\n",
    "\n",
    "\n",
    "def Bot9(ship, alpha):\n",
    "    opens = list(ship.open)\n",
    "    # Now we initialize two random leak locations that are distinct\n",
    "    while True:\n",
    "        botloc, leak1loc, leak2loc = random.sample(opens, 3)\n",
    "        if len(set([botloc, leak1loc, leak2loc])) == 3: break\n",
    "    print(f'bot started at: {botloc}, leak 1 is at: {leak1loc}, leak 2 is at: {leak2loc}')\n",
    "    start_prob = 2/(len(opens)-1)\n",
    "    probs = {cell: start_prob for cell in opens if cell != botloc}\n",
    "    probs[botloc] = 0\n",
    "    leak1found, leak2found,t = False, False,0\n",
    "    while not leak1found and not leak2found:\n",
    "        distances = SSSP(ship, botloc)\n",
    "        senseRes,_ = sense9(leak1loc, leak2loc, alpha, distances)\n",
    "        t+=1\n",
    "        probs = updateProbs9(senseRes, probs, ship, distances, alpha)\n",
    "        next_cell = nextCell(probs, distances)\n",
    "        for loc in distances[next_cell][1]:\n",
    "            botloc=loc\n",
    "            if loc == leak1loc:\n",
    "                leak1found = True\n",
    "            elif loc == leak2loc:\n",
    "                leak2found = True\n",
    "            # Set the p(leak in this cell) = 0, and update other probs thru normalization. \n",
    "            # Note that this won't change cell with max prob b/c ratio of probabilities will remain the same\n",
    "            probs = newCell(loc, probs)\n",
    "            t+=1\n",
    "    print(\"Got out of first while loop\")\n",
    "    # Once one of the leaks is found we can treat this exactly like bot 3\n",
    "    if not leak1found:\n",
    "        leak1found, t = mini_bot3(ship, botloc, leak1loc, alpha, t, probs)\n",
    "    elif not leak2found:\n",
    "        leak2found, t = mini_bot3(ship, botloc, leak2loc, alpha, t, probs)\n",
    "    game_over = leak1found and leak2found\n",
    "    return game_over, t\n",
    "    return False, t # We should never hit this condition\n",
    "        \n",
    "    "
   ]
  },
  {
   "cell_type": "code",
   "execution_count": 55,
   "metadata": {},
   "outputs": [
    {
     "data": {
      "image/png": "[encoded data removed]",
      "text/plain": [
       "<Figure size 640x480 with 2 Axes>"
      ]
     },
     "metadata": {},
     "output_type": "display_data"
    }
   ],
   "source": [
    "space_ship = ship.CreateShip(30)\n",
    "space_ship.OpenShip()\n",
    "space_ship.populateClosedCells()\n",
    "space_ship.ShowShip()"
   ]
  },
  {
   "cell_type": "code",
   "execution_count": 18,
   "metadata": {},
   "outputs": [
    {
     "name": "stdout",
     "output_type": "stream",
     "text": [
      "bot started at: (1, 7), leak 1 is at: (3, 0), leak 2 is at: (9, 7)\n",
      "Got out of first while loop\n"
     ]
    },
    {
     "data": {
      "text/plain": [
       "(True, 75)"
      ]
     },
     "execution_count": 18,
     "metadata": {},
     "output_type": "execute_result"
    }
   ],
   "source": [
    "Bot9(space_ship, 0.05)"
   ]
  },
  {
   "cell_type": "code",
   "execution_count": 21,
   "metadata": {},
   "outputs": [
    {
     "data": {
      "text/plain": [
       "0"
      ]
     },
     "execution_count": 21,
     "metadata": {},
     "output_type": "execute_result"
    }
   ],
   "source": [
    "from KB import KnowledgeBase\n",
    "\n",
    "kb = KnowledgeBase()\n",
    "kb.get_probability_for_pair(0, 0)"
   ]
  },
  {
   "cell_type": "code",
   "execution_count": 19,
   "metadata": {},
   "outputs": [],
   "source": [
    "# Now we compute probability of getting a beep given leak locations is 1 - P(No beep from leak1 AND No beep from leak2)\n",
    "def sense8(leak1loc, leak2loc, alpha, dist):\n",
    "    _, prob1 = sense(leak1loc, alpha, dist) #P(beep | leak location)\n",
    "    _, prob2 = sense(leak2loc, alpha, dist)\n",
    "    final_prob = 1 - (1-prob1)*(1-prob2)\n",
    "    if random.random() < final_prob:\n",
    "        return True, final_prob\n",
    "    return False, final_prob\n",
    "\n",
    "# Im assuming sense8 is correct but updateProbs8 is not, now note that currProbs is a KnowledgeBase obj\n",
    "def updateProbs8(senseRes,currProbs, ship2, dist, alpha):\n",
    "    denom=0\n",
    "    for pair, prob in currProbs.probs.items():\n",
    "        loc1,loc2 = pair\n",
    "        if senseRes:\n",
    "            _,mult = sense8(loc1,loc2,alpha,dist)\n",
    "        else:\n",
    "            _,mult = sense8(loc1,loc2,alpha,dist)\n",
    "            mult = 1-mult\n",
    "        denom+=prob*mult            \n",
    "\n",
    "    new_kb = KnowledgeBase()\n",
    "    for pair, prob in currProbs.probs.items():\n",
    "        loc1, loc2 = pair\n",
    "        if senseRes:\n",
    "            numerator = prob*sense8(loc1,loc2, alpha, dist)[1]\n",
    "        else:\n",
    "            numerator = prob*(1 - sense8(loc1,loc2, alpha, dist)[1])\n",
    "        new_prob = numerator/denom\n",
    "        new_kb.add_prob_pair(loc1,loc2, new_prob)\n",
    "    return new_kb\n",
    "\n",
    " # Find next cell by looking at pairs with max probability in the knowledge base and finding nearest cell in those pairs\n",
    "def nextCell8(knowledge, dist):\n",
    "    max_prob_cells = knowledge.get_max_locations()\n",
    "    return min(max_prob_cells, key=lambda cell: dist[cell][0])\n",
    "\n",
    "# Convert knowledge base of pair probabilities to probabilities of individual cells containing a leak b/c we are done\n",
    "# We are really finding p(leak 2 in cell | leak 1 in found) = p(leak cell, found)/ p(leak 1 in found) = p(leak cell, found)\n",
    "def collapseKB(kb, ship, found_loc):\n",
    "    probs = {}\n",
    "    for open_cell in ship.open:\n",
    "        probs[open_cell] = kb.get_probability_for_pair(found_loc, open_cell)\n",
    "    return probs\n",
    "\n",
    "def mini_bot3(ship, botloc, leakloc, alpha, t, probs):\n",
    "    leakfound=False\n",
    "    while not leakfound:\n",
    "        distances = SSSP(ship, botloc)\n",
    "        senseRes,_ = sense(leakloc, alpha, distances)\n",
    "        t+=1 # Sense action takes one time step\n",
    "        probs = updateProbs(probs, senseRes, ship, distances,alpha)\n",
    "        next_cell = nextCell(probs, distances)\n",
    "        for loc in distances[next_cell][1]:\n",
    "            botloc = loc\n",
    "            if loc == leakloc:\n",
    "                leakfound = True\n",
    "                return leakfound, t\n",
    "            probs = newCell(loc, probs)\n",
    "            t+=1\n",
    "    return false, t\n",
    "    \n",
    "def Bot8(ship, alpha):\n",
    "    ship.populateClosedCells()\n",
    "    ship.populateOpenCells()\n",
    "    kb = KnowledgeBase()\n",
    "    kb.genInitKB(ship)\n",
    "    items_to_del = []\n",
    "    for pairs, probs in kb.probs.items():\n",
    "        for loc1, loc2 in [pairs]:\n",
    "            if loc1 in ship.closed or loc2 in ship.closed:\n",
    "                x1, y1 = loc1\n",
    "                x2, y2 = loc2\n",
    "                # print(loc1)\n",
    "                # print(loc2)\n",
    "                # print(f'A closed location was in our knowledge base!!!.\\nShip value at location 1: {ship.data[x1][y1]}. ship value at location 2: {ship.data[x2][y2]}')\n",
    "                items_to_del.append(pairs)\n",
    "    for item in items_to_del:\n",
    "        del kb.probs[item]\n",
    "    \n",
    "    opens = list(ship.open)\n",
    "    # Now we initialize two random leak locations that are distinct\n",
    "    while True:\n",
    "        botloc, leak1loc, leak2loc = random.sample(opens, 3)\n",
    "        if len(set([botloc, leak1loc, leak2loc])) == 3: break\n",
    "    kb.set_obj_pairs(botloc, 0) #set all pairs with current botlocation to 0\n",
    "    print(f'bot started at: {botloc}, leak 1 is at: {leak1loc}, leak 2 is at: {leak2loc}')\n",
    "    leak1found, leak2found,t, found_loc = False, False,0, None\n",
    "    while not (leak1found or leak2found):\n",
    "        dist = SSSP(ship, botloc)\n",
    "        senseRes,_ = sense8(leak1loc, leak2loc, alpha, dist)\n",
    "        t+=1\n",
    "        kb = updateProbs8(senseRes, kb, ship, dist, alpha)\n",
    "        next_cell = nextCell8(kb, dist)\n",
    "        for loc in dist[next_cell][1]:\n",
    "            botloc = loc\n",
    "            if loc == leak1loc or loc == leak2loc:\n",
    "                if loc == leak1loc: \n",
    "                    leak1found = True\n",
    "                elif loc == leak2loc: \n",
    "                    leak2found = True\n",
    "                found_loc=loc\n",
    "                # Set all the pairs that don't have this location to 0\n",
    "                kb.set_nonobj_pairs(loc, 0)\n",
    "            else:\n",
    "                # If there's no leak here, then all the pairs with this obj in it have p(leak)=0\n",
    "                kb.set_obj_pairs(loc, 0)\n",
    "            kb.normalize()\n",
    "            t+=1\n",
    "    print('out of first while loop')\n",
    "    probs = collapseKB(kb, ship, found_loc)\n",
    "    # From here we treat this exactly like a bot 3 problem:\n",
    "    if not leak1found:\n",
    "        leak1found, t = mini_bot3(ship, botloc, leak1loc, alpha, t, probs)\n",
    "    elif not leak2found:\n",
    "        leak2found, t = mini_bot3(ship, botloc, leak2loc, alpha, t, probs)\n",
    "    game_over = leak1found and leak2found\n",
    "    return game_over, t\n",
    "        "
   ]
  },
  {
   "cell_type": "code",
   "execution_count": 58,
   "metadata": {},
   "outputs": [
    {
     "data": {
      "image/png": "[encoded data removed]",
      "text/plain": [
       "<Figure size 640x480 with 2 Axes>"
      ]
     },
     "metadata": {},
     "output_type": "display_data"
    }
   ],
   "source": [
    "space_ship = ship.CreateShip(30)\n",
    "space_ship.OpenShip()\n",
    "space_ship.populateClosedCells()\n",
    "space_ship.ShowShip()"
   ]
  },
  {
   "cell_type": "code",
   "execution_count": 24,
   "metadata": {},
   "outputs": [
    {
     "name": "stdout",
     "output_type": "stream",
     "text": [
      "bot started at: (2, 1), leak 1 is at: (5, 9), leak 2 is at: (5, 2)\n",
      "out of first while loop\n"
     ]
    },
    {
     "data": {
      "text/plain": [
       "(True, 104)"
      ]
     },
     "execution_count": 24,
     "metadata": {},
     "output_type": "execute_result"
    }
   ],
   "source": [
    "Bot8(space_ship, 0.05)"
   ]
  }
 ],
 "metadata": {
  "kernelspec": {
   "display_name": "Python 3 (ipykernel)",
   "language": "python",
   "name": "python3"
  },
  "language_info": {
   "codemirror_mode": {
    "name": "ipython",
    "version": 3
   },
   "file_extension": ".py",
   "mimetype": "text/x-python",
   "name": "python",
   "nbconvert_exporter": "python",
   "pygments_lexer": "ipython3",
   "version": "3.9.6"
  },
  "vscode": {
   "interpreter": {
    "hash": "aee8b7b246df8f9039afb4144a1f6fd8d2ca17a180786b69acc140d282b71a49"
   }
  }
 },
 "nbformat": 4,
 "nbformat_minor": 4
}
