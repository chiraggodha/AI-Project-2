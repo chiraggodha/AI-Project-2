{
 "cells": [
  {
   "attachments": {},
   "cell_type": "markdown",
   "metadata": {},
   "source": [
    "### Project 2\n",
    "Refer to the project writeup [here](https://rutgers.box.com/s/yqrov1mwv5kbpk557nvc5uhjbj4mla6d)"
   ]
  },
  {
   "cell_type": "code",
   "execution_count": null,
   "metadata": {},
   "outputs": [],
   "source": [
    "from math import exp\n",
    "import random"
   ]
  },
  {
   "cell_type": "code",
   "execution_count": 6,
   "metadata": {},
   "outputs": [
    {
     "data": {
      "image/png": "[encoded data removed]",
      "text/plain": [
       "<Figure size 640x480 with 2 Axes>"
      ]
     },
     "metadata": {},
     "output_type": "display_data"
    }
   ],
   "source": [
    "from ship import ship\n",
    "\n",
    "# Confirming our import works\n",
    "space_ship = ship.CreateShip(10)\n",
    "space_ship.OpenShip()\n",
    "space_ship.ShowShip()"
   ]
  },
  {
   "cell_type": "code",
   "execution_count": null,
   "metadata": {},
   "outputs": [],
   "source": [
    "# Now I want to work on bot 3\n",
    "# Bot 3 and leak have random location on open cells\n",
    "# If bot takes a \"sense\" action it has p = e^(-a(d-1)) of getting a beep, given leak is d steps away\n",
    "\n",
    "# d(i, j) is shortest path to (i, j), all we need to do is SSSP with BFS\n",
    "def SSSP(ship2: ship, src: tuple):\n",
    "    dist = {cell :  float('inf') for cell in ship2.open}\n",
    "    dist[src] = 0\n",
    "    fringe = [src]\n",
    "    while fringe:\n",
    "        curr = fringe.pop(0)\n",
    "        currDist = dist[curr]\n",
    "        for adj in ship2.getAdj(curr):\n",
    "            new_dist = 1 + currDist\n",
    "            if new_dist < dist[adj]:\n",
    "                dist[adj] = new_dist\n",
    "                fringe.append(adj)\n",
    "    return dist\n",
    "\n",
    "\n",
    "# Initially all open cells should have the same probability of containing a leak\n",
    "# What is P(leak is nearby | beep) = P(beep | leak)*P(leak) / P(beep)\n",
    "\n",
    "def sense(botloc, leakloc, alpha, ship2): #Assuming botloc and leakloc are tuples (row, col)\n",
    "    dist = SSSP(ship2, botloc)\n",
    "    d = dist[leakloc]\n",
    "    prob = exp(-alpha*(d-1))\n",
    "    if random.random() < prob:\n",
    "        return True, prob\n",
    "    return False, prob\n",
    "\n",
    "# To determine the next cell we visit:\n",
    "# - Determine Max P(leak in cell x)\n",
    "# Put all cells with this probability into a list\n",
    "# Go to the closest one from this list\n",
    "\n",
    "def updateProbs(currProbs, senseRes, ship, dist, alpha, probs):\n",
    "    if senseRes:\n",
    "        # Find P(beep)\n",
    "        denom = sum(probs[k] * exp(-alpha*(dist[k]-1)) for k in ship.open)\n",
    "    else:\n",
    "        # Find P(!beep)\n",
    "        denom = sum(probs[k] * (1 - exp(-alpha*(dist[k]-1))) for k in ship.open)\n",
    "    for cell in ship.open:\n",
    "        if senseRes:\n",
    "            p_data_evidence = exp(-alpha * (dist[cell]-1))\n",
    "        else:\n",
    "            p_data_evidence = 1-exp(-alpha * (dist[cell]-1))\n",
    "        # Essentially, if we get a beep: P(leak in cell)* P(beep at i | leak in cell)/ P(beep)\n",
    "        new_prob = (probs[cell]*p_data_evidence)/denom \n",
    "        probs[cell] = new_prob\n",
    "    return probs\n",
    "        \n",
    "    "
   ]
  }
 ],
 "metadata": {
  "kernelspec": {
   "display_name": "Python 3",
   "language": "python",
   "name": "python3"
  },
  "language_info": {
   "codemirror_mode": {
    "name": "ipython",
    "version": 3
   },
   "file_extension": ".py",
   "mimetype": "text/x-python",
   "name": "python",
   "nbconvert_exporter": "python",
   "pygments_lexer": "ipython3",
   "version": "3.9.6"
  },
  "orig_nbformat": 4,
  "vscode": {
   "interpreter": {
    "hash": "aee8b7b246df8f9039afb4144a1f6fd8d2ca17a180786b69acc140d282b71a49"
   }
  }
 },
 "nbformat": 4,
 "nbformat_minor": 2
}
